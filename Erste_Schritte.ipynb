{
 "cells": [
  {
   "cell_type": "markdown",
   "metadata": {},
   "source": [
    "# Python 3 -- eine kurze Wiederholung\n",
    "In der Box gleich unter diesem Text steht ein kurzes Python-Programm.\n",
    "Sie können es ausführen, wenn Sie\n",
    "* auf die Box klicken und dann\n",
    "* mit gedrückter [Shift]-Taste auf [Enter] drücken.\n",
    "\n",
    "Hinweis: wenn Sie das Spiel abbrechen wollen, müssen Sie die Frage \"Was kommt noch in den Koffer?\" mit dem Wort _fertig_ beantworten."
   ]
  },
  {
   "cell_type": "code",
   "execution_count": null,
   "metadata": {},
   "outputs": [],
   "source": [
    "neuer_gegenstand= \"\"\n",
    "koffer= []\n",
    "while neuer_gegenstand != \"fertig\":\n",
    "    print(\"Ich habe in meinem Koffer:\")\n",
    "    print(koffer)\n",
    "    neuer_gegenstand= input(\"Was kommt noch in den Koffer? \")\n",
    "    koffer.append(neuer_gegenstand)\n",
    "print(\"OK, fertig gespielt\")"
   ]
  },
  {
   "cell_type": "markdown",
   "metadata": {},
   "source": [
    "### Einige Erläuterungen\n",
    "**Zeile 1:** hier wird eine Variable mit Namen _neuer_gegenstand_ eingeführt; der Variablen wird ein String (=Zeichenkette) zugewiesen, der im Moment leer ist.\n",
    "\n",
    "**Zeile 2:** hier wird eine Variable mit Namen _koffer_ eingeführt; der Variablen wird eine Liste zugewiesen, die im Moment leer ist.\n",
    "\n",
    "**Zeile 3:** hier beginnt eine Schleife. Solange das Wort, das in der Variablen _neuer_gegenstand_ gespeichert ist, nicht _fertig_ heisst, wird die Schleife ausgeführt.\n",
    "Das bedeutet gleichzeitig, dass wir die Schleife verlassen können, wenn wir der Variablen _neuer_gegenstand_ den Wert _fertig_ zuweisen.\n",
    "\n",
    "Beachten Sie auch die *Einrückung*: In Python müssen alle Codezeilen, die zur Schleife gehören, gleich weit eingerückt sein. Das ist die einzige Möglichkeit, anzugeben, bis zu welcher Zeile wiederholt werden soll.\n",
    "\n",
    "**Zeile 4:** Dieser Text wird genau so angezeigt.\n",
    "\n",
    "**Zeile 5:** Hier wird der Inhalt der Liste _koffer_ angezeigt.\n",
    "\n",
    "**Zeile 6:** Hier passieren drei Dinge: es wird ein Text angezeigt, das Programm wartet auf eine Eingabe, und die eigegebenen Zeichen werden in der Variablen _neuer_gegenstand_ abgespeichert.\n",
    "\n",
    "**Zeile 7:** Der eingebaute Befehl _.append()_ fügt der Liste ein zusätzliches Element hinzu.\n",
    "\n",
    "**Zeile 8:** Diese Codezeile ist _nicht mehr eingerückt_, das bedeutet, dass sie ausserhalb der Schleife steht. Sie wird erst dann ausgeführt, wenn die Schleifenbedingung _nicht mehr erfüllt_ ist. (Hier heisst das: erst wenn das Wort _fertig_ eingegeben wurde, wenn also keine neuen Gegenstände in den Koffer gepackt werden sollen.)"
   ]
  },
  {
   "cell_type": "markdown",
   "metadata": {},
   "source": [
    "### Übung\n",
    "Schreiben Sie selber ein ähnliches Programm in die untenstehende Box.\n",
    "Das Programm soll folgendes tun:\n",
    "* eine leere Liste namens _zahlen_ vorbereiten\n",
    "* eine Variable namens _summe_ auf den Wert 0 setzen\n",
    "* solange _summe_ kleiner als 100 ist, sollen immer wieder neue Zahlen verlangt werden; jede eingegebene Zahl wird zur Liste hinzugefügt, aber auch zu _summe_ addiert.\n",
    "* Sobald der Zielwert 100 erreicht oder überschritten ist, soll die ganze Liste angezeigt werden, zusammen mit der Summe der Zahlen\n",
    "\n",
    "Hinweis: Der Befehl _input_ betrachtet jede Eingabe als Zeichenkette (auch als \"String\" bezeichnet). Das ist nicht das, was wir hier brauchen. In diesem Programm muss die Eingabe deshalb ausdrücklich **in eine Zahl umgewandelt** werden. Das geschieht mit der eingebauten Funktion **int(...)** .\n",
    "\n",
    "Sie müssen also schreiben:   neue_Zahl = **int(** input(\"Zahl eingeben \") **)**"
   ]
  },
  {
   "cell_type": "code",
   "execution_count": null,
   "metadata": {},
   "outputs": [],
   "source": []
  },
  {
   "cell_type": "markdown",
   "metadata": {},
   "source": [
    "## Heutiges Thema: Graphen zeichnen mit Python\n",
    "Die Programmiersprache python ist so aufgebaut, dass es einige Grundfunktionen gibt, die so genannten **__builtins__**, die immer zur Verfügung stehen -- und ganz viele spezialisierte Zusatzfunktionen, die in eigenen Modulen organisiert sind, und zuerst _importiert_ werden müssen.\n",
    "\n",
    "Beispiele:\n",
    "\n",
    "* Wenn wir mathematische Funktionen wie den Sinus oder die natürliche Exponentialfunktion verwenden wollen, müssen wir das entsprechende Modul mit **import math** einbinden.<br>\n",
    "Jetzt steht die Sinusfunktion unter dem Namen **math.sin(...)** zur Verfügung.\n",
    "\n",
    "* Um Graphen zu zeichnen, benötigen wir das Modul **matplotlib.pyplot**<br>\n",
    "Da es mühsam wäre, wenn wir jedesmal _mathplotlib.pyplot_ wiederholen müssten, gibt es die folgende Abkürzung:<br>\n",
    "Wir wählen beim Importieren einen kürzeren Namen: **import matplotlib.pyplot _as plt_**<br>\n",
    "(Jetzt können wir die Funktionen unter dem Modulnamen **_plt_** ansprechen.)"
   ]
  },
  {
   "cell_type": "markdown",
   "metadata": {},
   "source": [
    "### Ein ganz simpler Graph zum Ausprobieren\n",
    "Zuerst **importieren** wir das Modul für Graphen.\n",
    "\n",
    "Dann brauchen wir eine Liste mit x-Werten und eine Liste mit y-Werten.\n",
    "\n",
    "Der Befehl **plt.plot(x,y)** bereitet einen Graphen vor, dieser ist aber noch nicht sichtbar.\n",
    "\n",
    "Der Befehl **plt.show()** führt dazu, dass der Graph gezeichnet wird.\n",
    "\n",
    "Schreiben Sie im unten stehenden Codebeispiel ein paar Werte in die x-Liste und ein paar Werte in die y-Liste. Führen Sie dann<br>\n",
    "(durch Drücken von [Shift] + [Enter] )<br>\n",
    "den Code aus und schauen Sie, was passiert. "
   ]
  },
  {
   "cell_type": "code",
   "execution_count": null,
   "metadata": {},
   "outputs": [],
   "source": [
    "import matplotlib.pyplot as plt\n",
    "x= [] # <-- hier x-Werte eintragen, jeweils durch Komma voneinander getrennt\n",
    "y= [] # <-- hier y-Werte eintragen\n",
    "plt.plot(x,y)\n",
    "plt.show()"
   ]
  },
  {
   "cell_type": "markdown",
   "metadata": {},
   "source": [
    "Anstelle von **plot** gibt es auch die Variante **scatter**:"
   ]
  },
  {
   "cell_type": "code",
   "execution_count": null,
   "metadata": {},
   "outputs": [],
   "source": [
    "x= [] # <-- hier x-Werte eintragen, jeweils durch Komma voneinander getrennt\n",
    "y= [] # <-- hier y-Werte eintragen\n",
    "plt.scatter(x,y)\n",
    "plt.show()"
   ]
  },
  {
   "cell_type": "markdown",
   "metadata": {},
   "source": [
    "### Erkenntnis: Listen automatisch erstellen wäre praktisch!\n",
    "Die folgenden Codebeispiele sollen Ihnen zeigen, wie Sie dazu vorgehen können.\n",
    "\n",
    "Führen Sie den Code aus, um zu sehen, was er bewirkt!"
   ]
  },
  {
   "cell_type": "code",
   "execution_count": null,
   "metadata": {},
   "outputs": [],
   "source": [
    "# die eingebaute Funktion range()\n",
    "# ...wird normalerweise für Schleifen verwendet\n",
    "\n",
    "for i in range(10):\n",
    "    print(i)"
   ]
  },
  {
   "cell_type": "code",
   "execution_count": null,
   "metadata": {},
   "outputs": [],
   "source": [
    "# die Ausgabewerte von range()\n",
    "# ...können 'eingefangen' und in einer Liste gespeichert werden\n",
    "\n",
    "x= list(range(10))\n",
    "print(x)"
   ]
  },
  {
   "cell_type": "code",
   "execution_count": null,
   "metadata": {},
   "outputs": [],
   "source": [
    "# normalerweise beginnt range() bei 0 und endet VOR dem angegebenen Wert\n",
    "# ...der Anfang lässt sich aber frei wählen\n",
    "\n",
    "x= list(range(-5,6))\n",
    "print(x)"
   ]
  },
  {
   "cell_type": "code",
   "execution_count": null,
   "metadata": {},
   "outputs": [],
   "source": [
    "# range() funktioniert nur für GANZE Zahlen\n",
    "# ...für eine kleinere Schrittweite müssen wir ein wenig rechnen\n",
    "\n",
    "x= [0.1*p for p in range(-10,11)]\n",
    "print(x)"
   ]
  },
  {
   "cell_type": "code",
   "execution_count": null,
   "metadata": {},
   "outputs": [],
   "source": [
    "# Erzeugen Sie als Übung die folgende Liste:\n",
    "# -5, -4.5, -4, ..., 9, 9.5, 10\n",
    "\n",
    "x= []  # <-- schreiben Sie einen geeigneten Ausdruck in die eckigen Klammern\n",
    "print(x)"
   ]
  },
  {
   "cell_type": "code",
   "execution_count": null,
   "metadata": {},
   "outputs": [],
   "source": [
    "# Zu einer Liste von x-Werten lassen sich die y-Werte rasch erzeugen\n",
    "# ...hier ist -- als einfaches Beispiel -- die Standardparabel y= x**2\n",
    "\n",
    "x= [0.1*p for p in range(-25,35)]\n",
    "y= [t**2  for t in x]\n",
    "plt.plot(x,y)\n",
    "plt.show()"
   ]
  },
  {
   "cell_type": "code",
   "execution_count": null,
   "metadata": {},
   "outputs": [],
   "source": [
    "# Es lassen sich auch mehrere Graphen im gleichen Koordinatensystem darstellen\n",
    "# ...setzen Sie die richtigen Ausdrücke ein\n",
    "\n",
    "x=  [0.1*p for p in range(-25,35)]\n",
    "y1= []  # hier soll die Standardparabel erzeugt werden\n",
    "y2= []  # hier soll die lineare Funktion y= x+2 erzeugt werden\n",
    "plt.plot(x,y1)\n",
    "plt.plot(x,y2)\n",
    "plt.show()"
   ]
  },
  {
   "cell_type": "code",
   "execution_count": null,
   "metadata": {},
   "outputs": [],
   "source": [
    "# Falls Sie die Achsen und den ganzen Graphen gern beschriften möchten\n",
    "\n",
    "plt.xlabel('Zeit [s]')\n",
    "plt.ylabel('Ort [m]')\n",
    "plt.suptitle('Freier Fall ohne Luftreibung')\n",
    "x= [0.2*p for p in range(0,31)]\n",
    "y= [200-5*t**2 for t in x]\n",
    "plt.plot(x,y)\n",
    "plt.show()"
   ]
  },
  {
   "cell_type": "code",
   "execution_count": null,
   "metadata": {},
   "outputs": [],
   "source": [
    "# Vielleicht ist es Ihnen wichtig, dass für x- und y-Achse\n",
    "# die gleiche Längeneinheit verwendet wird.\n",
    "# ...dafür gibt es die Einstellung 'equal'\n",
    "\n",
    "plt.axis('equal')\n",
    "x= [0.1*p for p in range(-15,16)]\n",
    "y= [t**2  for t in x]\n",
    "plt.plot(x,y)\n",
    "plt.show()"
   ]
  },
  {
   "cell_type": "code",
   "execution_count": null,
   "metadata": {},
   "outputs": [],
   "source": [
    "# Auch Farben können selber gewählt werden\n",
    "\n",
    "x= [0.5*p for p in range (-4,5)]\n",
    "y1=[t**2  for t in x]\n",
    "y2=[0.5*t**2+1 for t in x]\n",
    "y3=[0.4*t**2-1 for t in x]\n",
    "plt.plot(x,y1,'black')\n",
    "plt.plot(x,y2,'red')\n",
    "plt.plot(x,y3,'yellow')\n",
    "plt.show()"
   ]
  },
  {
   "cell_type": "markdown",
   "metadata": {},
   "source": [
    "### Anwendung: Eine Schar von Funktionen\n",
    "In dieser Aufgabe geht es um eine Schar von Funktion $y=f_{a}(x)=a\\cdot x^{2}+x-(a+1)$, deren Graphen für eine Auswahl von Parameterwerten, z.B. $a\\in\\{-2,-1,-0.5,-0.2,0,0.2,0.5,1,2\\}$, gezeichnet werden sollen.\n",
    "\n",
    "Erstellen Sie von Hand eine Liste dieser Parameterwerte, $\\texttt{param = [-2,-1,-0.5,-0.2,0,0.2,0.5,1,2]}$ und beginnen Sie dann eine Schleife $\\texttt{for a in param:}$. Innerhalb dieser Schleife wird eine Liste mit den y-Werten erzeugt und zum Plot hinzugefügt. Ausserhalb der Schleife wird der Graph mit $\\texttt{plt.show()}$ sichtbar gemacht."
   ]
  },
  {
   "cell_type": "code",
   "execution_count": null,
   "metadata": {},
   "outputs": [],
   "source": []
  },
  {
   "cell_type": "markdown",
   "metadata": {},
   "source": [
    "### Anwendung: eine Hüllkurve\n",
    "Die Gerade $g_{-10}$ geht durch die Punkte $(-10|10)$ und $(0|0)$, die Gerade $g_{-9}$ geht durch die Punkte $(-9|9)$ und $(1|1)$, die Gerade $g_{-8}$ geht durch die Punkte $(-8|8)$ und $(2|2)$, die Gerade $g_{-7}$ durch $(-7|7)$ und $(3|3)$, und so weiter, bis zur Geraden $g_{0}$, die durch die Punkte $(0|0)$ und $(10|10)$ verläuft.\n",
    "\n",
    "* Überlegen Sie sich eine allgemeine Funktionsgleichung für die Gerade $g_{a}$\n",
    "* Lassen Sie die Geraden $g_{-10}, g_{-9}, \\ldots, g_{0}$ für den Bereich $-10\\leq x\\leq 10$ zeichnen\n",
    "* Die Geradenschar umhüllt ein Gebiet, dessen Umriss verdächtig nach einer Parabel aussieht. Stellen Sie eine Vermutung an, was die Funktionsgleichung der Parabel sein könnte. Überprüfen Sie Ihre Vermutung, indem Sie die entsprechende Parabel auch in den Graphen einzeichnen."
   ]
  },
  {
   "cell_type": "code",
   "execution_count": null,
   "metadata": {},
   "outputs": [],
   "source": []
  },
  {
   "cell_type": "markdown",
   "metadata": {},
   "source": [
    "### Die x-Werte müssen nicht zwingend 'der Reihe nach' gehen --> Parametrisierte Kurven\n",
    "Als Einführungsbeispiel werden wir einen Kreis zeichnen. Dazu lassen wir einen Winkel _phi_ in kleinen Schritten von 0 bis $2\\pi$ laufen; die Liste der x-Werte erhält die Einträge $\\cos(\\phi)$, die Liste der y-Werte die Einträge $\\sin(\\phi)$.\n",
    "\n",
    "Damit wir Sinus und Cosinus nutzen können, müssen diese Funktionen zuerst mit **import math** importiert werden"
   ]
  },
  {
   "cell_type": "code",
   "execution_count": null,
   "metadata": {},
   "outputs": [],
   "source": [
    "import math\n",
    "plt.axis('equal')\n",
    "winkel= [2*math.pi*0.01*p for p in range(101)] # von 0 bis 2pi in 100 Schritten\n",
    "x= [math.cos(phi) for phi in winkel]\n",
    "y= [math.sin(phi) for phi in winkel]\n",
    "plt.plot(x,y)\n",
    "plt.show()"
   ]
  },
  {
   "cell_type": "markdown",
   "metadata": {},
   "source": [
    "Die nächste Box enthält nochmals den genau gleichen Code wie zuvor. Ändern Sie ihn so ab, dass er statt eines Kreises eine Ellipse erzeugt, deren horizontale Halbachse 3 Einheiten beträgt, und deren vertikale Halbachse 2 Einheiten beträgt."
   ]
  },
  {
   "cell_type": "code",
   "execution_count": null,
   "metadata": {},
   "outputs": [],
   "source": [
    "plt.axis('equal')\n",
    "winkel= [2*math.pi*0.01*p for p in range(101)]\n",
    "x= [math.cos(phi) for phi in winkel] # <-- hier die erforderlichen Anpassungen vornehmen\n",
    "y= [math.sin(phi) for phi in winkel] # <-- hier die erforderlichen Anpassungen vornehmen\n",
    "plt.plot(x,y)\n",
    "plt.show()"
   ]
  },
  {
   "cell_type": "markdown",
   "metadata": {},
   "source": [
    "### Wenn x und y verschieden lange Perioden haben --> Lissajous-Figuren\n",
    "Im obigen Beispiel brauchte $x=\\cos(\\phi)$ gleich lange um eine volle Periode auszuführen wie $y=\\sin(\\phi)$. Interessante Figuren entstehen, wenn die Perioden unterschiedlich lang sind, aber in einem einfachen rationalen Verhältnis zueinander stehen.\n",
    "\n",
    "Wir betrachten das Beispiel $x=\\cos(3\\phi)$ und $y=\\sin(2\\phi)$:"
   ]
  },
  {
   "cell_type": "code",
   "execution_count": null,
   "metadata": {},
   "outputs": [],
   "source": [
    "plt.axis('equal')\n",
    "winkel= [2*math.pi*0.004*p for p in range(251)]\n",
    "x= [math.cos(3*phi) for phi in winkel]\n",
    "y= [math.sin(2*phi) for phi in winkel]\n",
    "plt.plot(x,y)\n",
    "plt.show()"
   ]
  },
  {
   "cell_type": "markdown",
   "metadata": {},
   "source": [
    "Probieren Sie auch andere Periodenverhältnisse aus:"
   ]
  },
  {
   "cell_type": "code",
   "execution_count": null,
   "metadata": {},
   "outputs": [],
   "source": [
    "plt.axis('equal')\n",
    "winkel= [2*math.pi*0.004*p for p in range(251)]\n",
    "x= [math.cos(3*phi) for phi in winkel] # <-- hier andere Faktoren ausprobieren\n",
    "y= [math.sin(2*phi) for phi in winkel] # <-- hier andere Faktoren ausprobieren\n",
    "plt.plot(x,y)\n",
    "plt.show()"
   ]
  },
  {
   "cell_type": "markdown",
   "metadata": {},
   "source": [
    "### // Randbemerkung: Plots können auch exportiert werden! //\n",
    "Wenn Sie einen Plot, den Sie mit python erstellt haben, als Bilddatei haben wollen, so dass Sie ihn z.B. in eine Arbeit integrieren können, dann geht das ganz einfach:"
   ]
  },
  {
   "cell_type": "code",
   "execution_count": null,
   "metadata": {},
   "outputs": [],
   "source": [
    "plt.axis('equal')\n",
    "plt.plot(x,y)\n",
    "plt.savefig('gewuenschter_Dateiname.png')"
   ]
  },
  {
   "cell_type": "markdown",
   "metadata": {},
   "source": [
    "### Wenn der Radius eines Kreises kontinuierlich abnimmt --> Spiralen\n",
    "Weiter oben haben wir einen Kreis mit Radius 1 gezeichnet. Wenn wir den \"Radius\" nicht konstant lassen sondern ebenfalls vom Parameter _phi_ abhängig machen, erhalten wir eine Spirale.\n",
    "\n",
    "Das folgende Programmgerüst zeichnet einen Kreis (und durchläuft den Kreis 10 Mal); passen Sie es so an, dass der Abstand zwischen den Punkten $(x|y)$ und dem Koordinatenursprung $(0|0)$ **linear abnimmt**"
   ]
  },
  {
   "cell_type": "code",
   "execution_count": null,
   "metadata": {},
   "outputs": [],
   "source": [
    "plt.axis('equal')\n",
    "winkel= [2*math.pi*0.01*p for p in range(1001)] # in 1000 Schritten von 0 bis 20 pi (10 Mal rundherum)\n",
    "x= [math.cos(phi) for phi in winkel] # <-- hier variablen Radius verwenden\n",
    "y= [math.sin(phi) for phi in winkel] # <-- hier denselben variablen Radius verwenden\n",
    "plt.plot(x,y)\n",
    "plt.show()"
   ]
  },
  {
   "cell_type": "markdown",
   "metadata": {},
   "source": [
    "### Anwendungsbeispiel: Simulation eines Satelliten im Schwerefeld der Erde\n",
    "Wir werden uns die Sache möglichst einfach machen und treffen deshalb folgende Annahmen:\n",
    "\n",
    "* Der Erdmittelpunkt befindet sich im Koordinatenursprung $(0|0)$.\n",
    "* Der Satellit hat die Anfangsposition $(s_{x}|s_{y})$.\n",
    "* Der Satellit hat die Anfangsgeschwindigkeit $\\vec v={v_{x}\\choose v_{y}}$.\n",
    "* Der Satellit erfährt die Beschleunigung $\\vec a={a_{x}\\choose a_{y}}$.<br>\n",
    "Der Betrag davon, $|\\vec a|$, nimmt quadratisch mit dem Abstand zum Erdmittelpunkt ab:<br>\n",
    "$|\\vec a|=\\frac{1}{{s_{x}}^2+{s_{y}}^2}$<br>\n",
    "$\\vec a$ soll die Richtung ${-s_{x}\\choose -s_{y}}$ haben (d.h. auf den Erdmittelpunkt zeigen).<br>\n",
    "Daraus ergeben sich die x- und y-Komponenten der Beschleunigung:<br>\n",
    "$a_{x}=-s_{x}\\cdot\\frac{1}{\\sqrt{{s_{x}}^2+{s_{y}}^2}}\\cdot \\frac{1}{{s_{x}}^2+{s_{y}}^2}$<br>\n",
    "$a_{y}=-s_{y}\\cdot\\frac{1}{\\sqrt{{s_{x}}^2+{s_{y}}^2}}\\cdot \\frac{1}{{s_{x}}^2+{s_{y}}^2}$\n",
    "* Wir denken uns, dass diese Beschleunigung für die Dauer von **1 Zeitschritt** auf den Satelliten wirkt. Dies hat die folgende Auswirkung auf seine Geschwindigkeit:<br>\n",
    "vorher: ${v_{x}\\choose v_{y}}$<br>\n",
    "nachher: ${v_{x}\\choose v_{y}}:={v_{x}+a_{x}\\choose v_{y}+a_{y}}$.\n",
    "* Wir denken uns, dass der Satellit für die Dauer von **1 Zeitschritt** mit der neuen Geschwindigkeit weiterfliegt. Dies hat die folgende Auswirkung auf seine Position:<br>\n",
    "vorher: $(s_{x}|s_{y})$<br>\n",
    "nachher: $(s_{x}|s_{y}) := (s_{x}+v_{x}|s_{y}+v_{y})$"
   ]
  },
  {
   "cell_type": "markdown",
   "metadata": {},
   "source": [
    "**Ein Berechnungsschritt** der Simulation sieht wie folgt aus:\n",
    "* Aus der aktuellen Position wird die aktuelle Beschleunigung berechnet\n",
    "* Mithilfe der Beschleunigung wird die Geschwindigkeit aktualisiert\n",
    "* Mithilfe der Geschwindigkeit wird die Position aktualisiert\n",
    "\n",
    "Diese Art von Berechnungsschritten wird etwa 200 Mal durchgeführt und die Ergebnisse werden in Listen gespeichert. Dies ergibt eine aus 200 Teilstücken zusammengesetzte Bahnkurve des Satelliten, die angezeigt werden kann. "
   ]
  },
  {
   "cell_type": "code",
   "execution_count": null,
   "metadata": {},
   "outputs": [],
   "source": [
    "import matplotlib.pyplot as plt\n",
    "s_ANFANGx= 10       # Anfangsposition (10|0)\n",
    "s_ANFANGy= 0        # (kann variiert werden!)\n",
    "v_ANFANGx= 0        # Anfangsgeschwindigkeit wurde so festgelegt,\n",
    "v_ANFANGy= 0.12     # ...dass sich der Satellit anfangs tangential zur Erde bewegt\n",
    "ANZ_SCHRITTE= 200\n",
    "sx   = [0]*ANZ_SCHRITTE  # erzeugt eine Liste mit lauter Nullen, welche ANZ_SCHRITTE lang ist\n",
    "sx[0]= s_ANFANGx         # Eintrag Nummer 0 der Liste wird mit der Anfangsposition initialisiert\n",
    "sy   = [0]*ANZ_SCHRITTE  # nochmals eine mit Nullen gefuellte Liste\n",
    "sy[0]= s_ANFANGy         # ...deren erster Eintrag initialisiert wird\n",
    "vx= v_ANFANGx\n",
    "vy= v_ANFANGy\n",
    "for i in range(1,ANZ_SCHRITTE):   # jeder Schleifendurchgang berechnet eine weitere Position\n",
    "    d = (sx[i-1]**2 + sy[i-1]**2)**0.5     # Abstand vom Erdmittelpunkt\n",
    "    ax= -sx[i-1]/ d**3\n",
    "    ay= -sy[i-1]/ d**3\n",
    "    vx= vx+ ax\n",
    "    vy= vy+ ay\n",
    "    sx[i]= sx[i-1]+ vx\n",
    "    sy[i]= sy[i-1]+ vy\n",
    "plt.axis('equal')\n",
    "plt.scatter([0,s_ANFANGx],[0,s_ANFANGy])   # Erde und Anfangsposition des Satelliten markieren\n",
    "plt.plot(sx,sy)\n",
    "plt.show()"
   ]
  },
  {
   "cell_type": "markdown",
   "metadata": {},
   "source": [
    "### Vorschläge für Untersuchungen\n",
    "Mit den obigen Startwerten, d.h. Anfangsposition $(10|0)$ und Anfangsgeschwindigkeit ${0\\choose 0.12}$, sieht die Bahnkurve des Satelliten zwar etwas instabil aus, sie scheint aber in Erdnähe zu bleiben.\n",
    "* Erhöhen Sie die Anzahl Schritte und untersuchen Sie, ob der Satellit auch längerfristig in Erdnähe bleibt.\n",
    "* Versuchen Sie die Anfangsgeschwindigkeit so einzustellen, dass eine schöne und stabile elliptische Bahn resultiert\n",
    "* Was passiert, wenn der Satellit am Anfang in Ruhe ist?"
   ]
  },
  {
   "cell_type": "markdown",
   "metadata": {},
   "source": [
    "### Weitere Untersuchungen: Bessere Auflösung\n",
    "Wenn Sie in der obigen Simulation die Satellitenbahn in Erdnähe genauer betrachten, sehen Sie deutliche Ecken. Das liegt daran, dass die Simulation auf der Annahme beruht, dass der Satellit während der Dauer eines gesamten Zeitschritts einfach geradeaus fliegt. Wenn sich in der Zwischenzeit die Beschleunigungsrichtung wesentlich verändert hat, entstehen die Ecken.\n",
    "\n",
    "Um Abhilfe zu schaffen, könnten wir die nächste Position des Satelliten bereits nach **1/10 Zeitschritt** berechnen (und dafür 10 Mal so viele Positionen berechnen).<br>\n",
    "Die Frage an Sie lautet jetzt:<br>\n",
    "Wie verändert sich die Geschwindigkeit, wenn die errechnete Beschleunigung nur während 1/10 Zeitschritt wirksam ist? Und wie verändert sich die Position, wenn der Satellit nur während 1/10 Zeitschritt mit der errechneten Geschwindigkeit fliegt?\n",
    "\n",
    "In der folgenden Box ist eine Kopie des alten Codes, den Sie entsprechend verändern können:"
   ]
  },
  {
   "cell_type": "code",
   "execution_count": null,
   "metadata": {},
   "outputs": [],
   "source": [
    "import matplotlib.pyplot as plt\n",
    "s_ANFANGx= 10\n",
    "s_ANFANGy= 0\n",
    "v_ANFANGx= 0\n",
    "v_ANFANGy= 0.12\n",
    "ANZ_SCHRITTE= 200        # <--- hier sind jetzt mehr Schritte notwendig\n",
    "sx   = [0]*ANZ_SCHRITTE\n",
    "sx[0]= s_ANFANGx\n",
    "sy   = [0]*ANZ_SCHRITTE\n",
    "sy[0]= s_ANFANGy\n",
    "vx= v_ANFANGx\n",
    "vy= v_ANFANGy\n",
    "for i in range(1,ANZ_SCHRITTE):\n",
    "    d = (sx[i-1]**2 + sy[i-1]**2)**0.5\n",
    "    ax= -sx[i-1]/ d**3\n",
    "    ay= -sy[i-1]/ d**3\n",
    "    vx= vx+ ax           # <--- Anpassung erforderlich\n",
    "    vy= vy+ ay           # <--- Anpassung erforderlich\n",
    "    sx[i]= sx[i-1]+ vx   # <--- Anpassung erforderlich\n",
    "    sy[i]= sy[i-1]+ vy   # <--- Anpassung erforderlich\n",
    "plt.axis('equal')\n",
    "plt.scatter([0,s_ANFANGx],[0,s_ANFANGy])\n",
    "plt.plot(sx,sy)\n",
    "plt.show()"
   ]
  },
  {
   "cell_type": "markdown",
   "metadata": {},
   "source": [
    "**Erkenntnis**: Die erste Version der Bahn ist ein _Artefakt_, ihre Form hängt so stark von Rundungseffekten ab, dass sie nichts mehr über das Verhalten eines realen Satelliten aussagt."
   ]
  },
  {
   "cell_type": "markdown",
   "metadata": {},
   "source": [
    "### Falls Sie noch Zeit und Lust für mehr Simulationen haben sollten...\n",
    "...könnten Sie noch den Erdmond hinzunehmen. Sie hätten dann die Erde in $(0|0)$ und den Mond -- beispielsweise -- in $(38|0)$; der Satellit würde von beiden Körpern angezogen (wobei die Mondmasse nur 1/80 der Erdmasse beträgt, dieser Faktor überträgt sich auf die Anziehungskräfte). Jetzt können Sie versuchen, einen Satelliten von der Erde aus in eine Mondumlaufbahn zu schiessen.\n",
    "\n",
    "Realistischer wäre es allerdings, wenn der Mond nicht stillsteht, sondern die Erde umrundet. Zum Beispiel auf einer Bahn wie $(38\\cos(0.005\\cdot i)|38\\sin(0.005\\cdot i))$"
   ]
  },
  {
   "cell_type": "code",
   "execution_count": null,
   "metadata": {},
   "outputs": [],
   "source": []
  }
 ],
 "metadata": {
  "kernelspec": {
   "display_name": "Python 3 (ipykernel)",
   "language": "python",
   "name": "python3"
  },
  "language_info": {
   "codemirror_mode": {
    "name": "ipython",
    "version": 3
   },
   "file_extension": ".py",
   "mimetype": "text/x-python",
   "name": "python",
   "nbconvert_exporter": "python",
   "pygments_lexer": "ipython3",
   "version": "3.9.6"
  }
 },
 "nbformat": 4,
 "nbformat_minor": 4
}
